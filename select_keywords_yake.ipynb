{
 "cells": [
  {
   "cell_type": "code",
   "execution_count": 1,
   "id": "c4c9c0b7",
   "metadata": {},
   "outputs": [
    {
     "name": "stderr",
     "output_type": "stream",
     "text": [
      "  Running command git clone --filter=blob:none --quiet https://github.com/LIAAD/yake 'C:\\Users\\Edina\\AppData\\Local\\Temp\\pip-req-build-0xx_znnk'\n",
      "\n",
      "[notice] A new release of pip is available: 23.3.1 -> 25.1.1\n",
      "[notice] To update, run: python.exe -m pip install --upgrade pip\n"
     ]
    },
    {
     "name": "stdout",
     "output_type": "stream",
     "text": [
      "Collecting git+https://github.com/LIAAD/yake\n",
      "  Cloning https://github.com/LIAAD/yake to c:\\users\\edina\\appdata\\local\\temp\\pip-req-build-0xx_znnk\n",
      "  Resolved https://github.com/LIAAD/yake to commit 5c2abee8b5910b26a60abe8f1e22c6352a7552ab\n",
      "  Installing build dependencies: started\n",
      "  Installing build dependencies: finished with status 'done'\n",
      "  Getting requirements to build wheel: started\n",
      "  Getting requirements to build wheel: finished with status 'done'\n",
      "  Preparing metadata (pyproject.toml): started\n",
      "  Preparing metadata (pyproject.toml): finished with status 'done'\n",
      "Requirement already satisfied: click>=6.0 in d:\\program files\\python311\\lib\\site-packages (from yake==0.6.0) (8.1.7)\n",
      "Requirement already satisfied: jellyfish in d:\\program files\\python311\\lib\\site-packages (from yake==0.6.0) (1.2.0)\n",
      "Requirement already satisfied: networkx in d:\\program files\\python311\\lib\\site-packages (from yake==0.6.0) (3.2.1)\n",
      "Requirement already satisfied: numpy>=1.23.5 in d:\\program files\\python311\\lib\\site-packages (from yake==0.6.0) (1.26.4)\n",
      "Requirement already satisfied: segtok in d:\\program files\\python311\\lib\\site-packages (from yake==0.6.0) (1.5.11)\n",
      "Requirement already satisfied: tabulate in d:\\program files\\python311\\lib\\site-packages (from yake==0.6.0) (0.9.0)\n",
      "Requirement already satisfied: colorama in d:\\program files\\python311\\lib\\site-packages (from click>=6.0->yake==0.6.0) (0.4.6)\n",
      "Requirement already satisfied: regex in d:\\program files\\python311\\lib\\site-packages (from segtok->yake==0.6.0) (2024.4.28)\n",
      "Building wheels for collected packages: yake\n",
      "  Building wheel for yake (pyproject.toml): started\n",
      "  Building wheel for yake (pyproject.toml): finished with status 'done'\n",
      "  Created wheel for yake: filename=yake-0.6.0-py3-none-any.whl size=81797 sha256=b129c5a2a21e7840d99d82727ea085472a772cda1dfcbd23368a11399f8fc6d6\n",
      "  Stored in directory: C:\\Users\\Edina\\AppData\\Local\\Temp\\pip-ephem-wheel-cache-ekc0wj__\\wheels\\06\\e6\\1c\\8f614adcd4b053020d672b9cbc5ef1166407755a4b71adea0d\n",
      "Successfully built yake\n",
      "Installing collected packages: yake\n",
      "  Attempting uninstall: yake\n",
      "    Found existing installation: yake 0.4.8\n",
      "    Uninstalling yake-0.4.8:\n",
      "      Successfully uninstalled yake-0.4.8\n",
      "Successfully installed yake-0.6.0\n"
     ]
    }
   ],
   "source": [
    "!pip install git+https://github.com/LIAAD/yake\n",
    "import yake"
   ]
  },
  {
   "cell_type": "code",
   "execution_count": 8,
   "id": "390dd458",
   "metadata": {},
   "outputs": [],
   "source": [
    "import pandas as pd\n",
    "\n",
    "train_df = pd.read_csv('./data/tiny_train.csv')\n",
    "test_df = pd.read_csv('./data/tiny_test.csv')"
   ]
  },
  {
   "cell_type": "code",
   "execution_count": 3,
   "id": "117a2aea",
   "metadata": {},
   "outputs": [
    {
     "name": "stdout",
     "output_type": "stream",
     "text": [
      "1000\n",
      "10000\n"
     ]
    }
   ],
   "source": [
    "print(len(test_df))\n",
    "print(len(train_df))"
   ]
  },
  {
   "cell_type": "code",
   "execution_count": 9,
   "id": "426c9423",
   "metadata": {},
   "outputs": [],
   "source": [
    "def dice_coefficient(pred, gold):\n",
    "    pred_set, gold_set = set(pred), set(gold)\n",
    "    if not pred_set and not gold_set:\n",
    "        return 1.0\n",
    "    return 2 * len(pred_set & gold_set) / (len(pred_set) + len(gold_set))"
   ]
  },
  {
   "cell_type": "code",
   "execution_count": 11,
   "id": "171012e4",
   "metadata": {},
   "outputs": [],
   "source": [
    "import ast\n",
    "\n",
    "def parse_keywords(keyword_str):\n",
    "    try:\n",
    "        keywords = ast.literal_eval(keyword_str)\n",
    "        if isinstance(keywords, list):\n",
    "            return [kw.strip().lower() for kw in keywords]\n",
    "    except:\n",
    "        pass\n",
    "    return []\n",
    "\n",
    "train_df['keywords'] = train_df['keywords'].apply(parse_keywords)"
   ]
  },
  {
   "cell_type": "code",
   "execution_count": 14,
   "id": "fffc67dc",
   "metadata": {},
   "outputs": [
    {
     "name": "stdout",
     "output_type": "stream",
     "text": [
      "=========\n",
      "Tweet: just in general, it was a cognitive science test to see if you're unconsciously racist.\n",
      "Extracted: ['cognitive science test', 'unconsciously racist', 'cognitive science', 'science test']\n",
      "Real: ['science', 'test', 'cognitive', 'general']\n",
      "=========\n",
      "Tweet: this is not candid. you video taped this after he knew the ending. you're probably a dude anyway. stop with this boring circlejerk.\n",
      "Extracted: ['candid', 'knew the ending', 'video taped', 'ending']\n",
      "Real: ['candid', 'tape', 'stop', 'video']\n",
      "=========\n",
      "Tweet: no one found an ip or used information fromthrough an isp. you have absolutely no idea what happened, do you?\n",
      "Extracted: ['fromthrough an isp', 'information fromthrough', 'isp', 'idea what happened']\n",
      "Real: ['ip', 'fromthrough', 'information', 'isp']\n",
      "=========\n",
      "Tweet: they don't seem to use stones in the usa, they always give their weight in pounds\n",
      "Extracted: ['weight in pounds', 'give their weight', 'usa', 'pounds']\n",
      "Real: ['use', 'stone', 'usa', 'weight']\n",
      "=========\n",
      "Tweet: lol ok brb i gotta see what's there. .... ........... .................................................... oo\n",
      "Extracted: ['lol ok brb', 'brb i gotta', 'lol', 'brb']\n",
      "Real: ['lol', 'ok', 'brb', 'oo']\n",
      "=========\n",
      "Tweet: two birds? meet one stone. \n",
      "Extracted: ['birds', 'meet one stone', 'meet', 'stone']\n",
      "Real: ['bird', 'meet', 'stone']\n",
      "DICE: 0.30\n"
     ]
    }
   ],
   "source": [
    "import yake \n",
    "import numpy as np\n",
    "\n",
    "dice_scores = []\n",
    "for i, (_, row) in enumerate(train_df.iterrows()):\n",
    "    abs_text = row['tweets'].lower()\n",
    "    real_keywords = [kw.strip().lower() for kw in row['keywords']]\n",
    "\n",
    "    kw_extractor = yake.KeywordExtractor(top=4, stopwords=None)\n",
    "    extracted = kw_extractor.extract_keywords(abs_text)\n",
    "    predicted_keywords = [kw for kw, _ in extracted]\n",
    "\n",
    "    dice_scores.append(dice_coefficient(predicted_keywords, real_keywords))\n",
    "\n",
    "    if i <= 5:\n",
    "      print('=========')\n",
    "      print(f\"Tweet: {abs_text}\")\n",
    "      print(f\"Extracted: {predicted_keywords}\")\n",
    "      print(f\"Real: {real_keywords}\")\n",
    "\n",
    "print(f\"DICE: {np.mean(dice_scores):.2f}\")"
   ]
  }
 ],
 "metadata": {
  "kernelspec": {
   "display_name": "Python 3",
   "language": "python",
   "name": "python3"
  },
  "language_info": {
   "codemirror_mode": {
    "name": "ipython",
    "version": 3
   },
   "file_extension": ".py",
   "mimetype": "text/x-python",
   "name": "python",
   "nbconvert_exporter": "python",
   "pygments_lexer": "ipython3",
   "version": "3.11.6"
  }
 },
 "nbformat": 4,
 "nbformat_minor": 5
}
