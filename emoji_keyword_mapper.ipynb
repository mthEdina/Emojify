{
 "cells": [
  {
   "cell_type": "code",
   "execution_count": 2,
   "id": "744c8cca",
   "metadata": {},
   "outputs": [],
   "source": [
    "import pandas as pd\n",
    "import ast\n",
    "from collections import defaultdict\n",
    "import csv"
   ]
  },
  {
   "cell_type": "code",
   "execution_count": 3,
   "id": "2175026d",
   "metadata": {},
   "outputs": [],
   "source": [
    "df_text = pd.read_csv(\"data/tiny_test.csv\")\n",
    "df_emoji = pd.read_csv(\"emoji_results/tweets_with_emojis_predicted_order.csv\")"
   ]
  },
  {
   "cell_type": "code",
   "execution_count": 4,
   "id": "9b9736d4",
   "metadata": {},
   "outputs": [],
   "source": [
    "emoji_to_keywords = defaultdict(set)\n",
    "\n",
    "for i, row in df_text.iterrows():\n",
    "    if i >= len(df_emoji):\n",
    "        continue\n",
    "\n",
    "    try:\n",
    "        keywords_dict = ast.literal_eval(row['keywords'])\n",
    "    except:\n",
    "        continue\n",
    "\n",
    "    keywords = list(keywords_dict.keys())\n",
    "\n",
    "    emojis_raw = str(df_emoji.loc[i, 'emojis'])\n",
    "    emojis = emojis_raw.strip().split()\n",
    "\n",
    "    for kw, emoji in zip(keywords, emojis):\n",
    "        emoji_to_keywords[emoji].add(kw)\n",
    "\n",
    "with open(\"emoji_keyword_map.csv\", \"w\", newline=\"\", encoding=\"utf-8\") as f:\n",
    "    writer = csv.writer(f)\n",
    "    for emoji, keywords in emoji_to_keywords.items():\n",
    "        row = [emoji] + sorted(keywords)\n",
    "        writer.writerow(row)"
   ]
  }
 ],
 "metadata": {
  "kernelspec": {
   "display_name": "Python 3",
   "language": "python",
   "name": "python3"
  },
  "language_info": {
   "codemirror_mode": {
    "name": "ipython",
    "version": 3
   },
   "file_extension": ".py",
   "mimetype": "text/x-python",
   "name": "python",
   "nbconvert_exporter": "python",
   "pygments_lexer": "ipython3",
   "version": "3.12.0"
  }
 },
 "nbformat": 4,
 "nbformat_minor": 5
}
