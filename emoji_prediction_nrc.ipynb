{
 "cells": [
  {
   "cell_type": "code",
   "execution_count": 2,
   "id": "4f4ae70f",
   "metadata": {},
   "outputs": [
    {
     "name": "stdout",
     "output_type": "stream",
     "text": [
      "😲 gt The decoy device was given to him by an undercover FBI agent, the statement said. As usual.\n",
      "❓ gt 4profit!!! You keep using that word, but I don't think it means what you think it means...\n",
      "❓ U folks from my congressional district rock! LOL!! kthxbai\n",
      "😐 No, you have ABS on the front brakes, which are discs. Those drums will happily lock up and oversteer. EDIT: I have no idea what I'm talking about.\n",
      "❓ []Nidies 62 points 2 hours ago You're a jackass. Sincerely, All the people that actually need a GM and have had to wait for days to talk to one before. That's a repost too... weird..\n",
      "🤝 I get mine inland marine insurance from state farm.\n",
      "😠 The mob textures seem to be broken. All my enderman and black spiders are white...\n",
      "😠 You get an up vote for making me feel like I've accomplished something other than playing Bad Company 2 today.\n",
      "🤔 I never said anything about the hand of God. You're the one that jumped to that conclusion.\n",
      "🤝 YOU MUST USE YOUR SUBREDDIT AS RLIBERTARIAN DEMANDS. ONLY BY DOING SO WILL YOU TRULY SERVE FREEDOM. \"With freedom as their doctrine Guess who was the new authority\"\n"
     ]
    }
   ],
   "source": [
    "import pandas as pd\n",
    "import ast\n",
    "from collections import Counter\n",
    "\n",
    "nrc = pd.read_csv(\"NRC-Emotion-Lexicon-Wordlevel-v0.92.txt\", \n",
    "                  sep='\\t', names=[\"word\", \"emotion\", \"association\"])\n",
    "nrc = nrc[nrc['association'] == 1].drop(columns=\"association\")\n",
    "\n",
    "emotion_dict = {}\n",
    "for word, emotion in nrc.values:\n",
    "    emotion_dict.setdefault(word, []).append(emotion)\n",
    "\n",
    "emotion_to_emoji = {\n",
    "    'joy': '😊',\n",
    "    'sadness': '😢',\n",
    "    'anger': '😠',\n",
    "    'fear': '😨',\n",
    "    'surprise': '😲',\n",
    "    'disgust': '🤢',\n",
    "    'trust': '🤝',\n",
    "    'anticipation': '🤔'\n",
    "}\n",
    "\n",
    "df = pd.read_csv(\"predictions_ordered.csv\").iloc[:10]\n",
    "\n",
    "for _, row in df.iterrows():\n",
    "    text = row['text']\n",
    "    try:\n",
    "        keywords = ast.literal_eval(row['kws'])\n",
    "    except:\n",
    "        keywords = []\n",
    "\n",
    "    emotion_counter = Counter()\n",
    "    \n",
    "    for kw in keywords:\n",
    "        kw_lower = kw.lower()\n",
    "        if kw_lower in emotion_dict:\n",
    "            for emotion in emotion_dict[kw_lower]:\n",
    "                emotion_counter[emotion] += 1\n",
    "\n",
    "    if emotion_counter:\n",
    "        top_emotion = emotion_counter.most_common(1)[0][0]\n",
    "        emoji = emotion_to_emoji.get(top_emotion, '❓')\n",
    "    else:\n",
    "        emoji = '😐'\n",
    "        \n",
    "    print(f\"{emoji} {text}\")\n"
   ]
  }
 ],
 "metadata": {
  "kernelspec": {
   "display_name": "Python 3",
   "language": "python",
   "name": "python3"
  },
  "language_info": {
   "codemirror_mode": {
    "name": "ipython",
    "version": 3
   },
   "file_extension": ".py",
   "mimetype": "text/x-python",
   "name": "python",
   "nbconvert_exporter": "python",
   "pygments_lexer": "ipython3",
   "version": "3.11.6"
  }
 },
 "nbformat": 4,
 "nbformat_minor": 5
}
