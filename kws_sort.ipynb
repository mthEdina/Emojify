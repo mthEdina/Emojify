{
 "cells": [
  {
   "cell_type": "code",
   "execution_count": 1,
   "id": "bebd8a8e",
   "metadata": {},
   "outputs": [],
   "source": [
    "import pandas as pd\n",
    "import ast\n",
    "import re"
   ]
  },
  {
   "cell_type": "code",
   "execution_count": null,
   "id": "589c3dd3",
   "metadata": {},
   "outputs": [],
   "source": [
    "df = pd.read_csv(\"predictions.csv\")"
   ]
  },
  {
   "cell_type": "code",
   "execution_count": 4,
   "id": "db8c2de0",
   "metadata": {},
   "outputs": [],
   "source": [
    "\n",
    "def reorder_keywords(row):\n",
    "    text = row['text'].lower()\n",
    "    keywords = ast.literal_eval(row['kws'])\n",
    "    positions = {}\n",
    "\n",
    "    for kw in keywords:\n",
    "        match = re.search(r'\\b' + re.escape(kw.lower()) + r'\\b', text)\n",
    "        if match:\n",
    "            positions[kw] = match.start()\n",
    "        else:\n",
    "            positions[kw] = float('inf') \n",
    "\n",
    "    sorted_keywords = sorted(keywords, key=lambda x: positions.get(x, float('inf')))\n",
    "    return str(sorted_keywords)"
   ]
  },
  {
   "cell_type": "code",
   "execution_count": 7,
   "id": "5a1c7a90",
   "metadata": {},
   "outputs": [],
   "source": [
    "df['kws'] = df.apply(reorder_keywords, axis=1)\n",
    "\n",
    "df.to_csv(\"predictions.csv\", index=False)"
   ]
  },
  {
   "cell_type": "code",
   "execution_count": 4,
   "id": "063028c7",
   "metadata": {},
   "outputs": [
    {
     "name": "stdout",
     "output_type": "stream",
     "text": [
      "['decoy', 'fbi', 'agent', 'statement']\n"
     ]
    }
   ],
   "source": [
    "import ast\n",
    "import re\n",
    "\n",
    "data = (\n",
    "    \"gt The decoy device was given to him by an undercover FBI agent, the statement said. As usual.\",\n",
    "    \"['decoy', 'fbi', 'agent', 'statement']\"\n",
    ")\n",
    "\n",
    "text = data[0].lower()\n",
    "keywords = ast.literal_eval(data[1])\n",
    "positions = {}\n",
    "\n",
    "for kw in keywords:\n",
    "    match = re.search(r'\\b' + re.escape(kw.lower()) + r'\\b', text)\n",
    "    if match:\n",
    "        positions[kw] = match.start()\n",
    "    else:\n",
    "        positions[kw] = float('inf')\n",
    "\n",
    "sorted_keywords = sorted(keywords, key=lambda x: positions.get(x, float('inf')))\n",
    "\n",
    "string_sorted = str(sorted_keywords)\n",
    "\n",
    "print(string_sorted)"
   ]
  }
 ],
 "metadata": {
  "kernelspec": {
   "display_name": "Python 3",
   "language": "python",
   "name": "python3"
  },
  "language_info": {
   "codemirror_mode": {
    "name": "ipython",
    "version": 3
   },
   "file_extension": ".py",
   "mimetype": "text/x-python",
   "name": "python",
   "nbconvert_exporter": "python",
   "pygments_lexer": "ipython3",
   "version": "3.12.0"
  }
 },
 "nbformat": 4,
 "nbformat_minor": 5
}
