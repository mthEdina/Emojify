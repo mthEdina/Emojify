{
 "cells": [
  {
   "cell_type": "code",
   "execution_count": 6,
   "id": "e4f5821d",
   "metadata": {},
   "outputs": [
    {
     "name": "stdout",
     "output_type": "stream",
     "text": [
      "gto far my only ideas are her make me a sandwich, then eat it when she's on top. \n",
      "{'gto': 15.66, 'idea': 9.72, 'far': 6.2, 'sandwich': 5.41}\n",
      "4270191\n"
     ]
    }
   ],
   "source": [
    "# https://www.kaggle.com/datasets/e0xextazy/pairs-comment-reply-from-reddit\n",
    "import pandas as pd\n",
    "\n",
    "df = pd.read_csv(\"data/reddit_with_keys_5m.csv\")\n",
    "print(df[\"tweets\"][0])\n",
    "print(df[\"keywords\"][0])\n",
    "\n",
    "print(len(df.index))"
   ]
  },
  {
   "cell_type": "code",
   "execution_count": null,
   "id": "32d4139f",
   "metadata": {},
   "outputs": [],
   "source": [
    "import pandas as pd\n",
    "from sklearn.model_selection import train_test_split\n",
    "\n",
    "df = pd.read_csv('data/reddit_with_keys_5m.csv')\n",
    "\n",
    "train_df, test_df = train_test_split(df, test_size=0.2, random_state=42)\n",
    "\n",
    "train_df.to_csv('data/train.csv', index=False)\n",
    "test_df.to_csv('data/test.csv', index=False)\n",
    "\n",
    "train_df = pd.read_csv('./data/train.csv').iloc[:10000]\n",
    "test_df = pd.read_csv('./data/test.csv').iloc[:1000]\n",
    "train_df.to_csv('./data/tiny_train.csv')\n",
    "test_df.to_csv('./data/tiny_test.csv')"
   ]
  }
 ],
 "metadata": {
  "kernelspec": {
   "display_name": "base",
   "language": "python",
   "name": "python3"
  },
  "language_info": {
   "codemirror_mode": {
    "name": "ipython",
    "version": 3
   },
   "file_extension": ".py",
   "mimetype": "text/x-python",
   "name": "python",
   "nbconvert_exporter": "python",
   "pygments_lexer": "ipython3",
   "version": "3.12.6"
  }
 },
 "nbformat": 4,
 "nbformat_minor": 5
}
