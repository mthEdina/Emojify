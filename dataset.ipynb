{
 "cells": [
  {
   "cell_type": "code",
   "execution_count": 1,
   "id": "485ddf61",
   "metadata": {},
   "outputs": [
    {
     "name": "stdout",
     "output_type": "stream",
     "text": [
      "gto far my only ideas are her make me a sandwich, then eat it when she's on top. \n",
      "{'gto': 15.66, 'idea': 9.72, 'far': 6.2, 'sandwich': 5.41}\n",
      "4270191\n"
     ]
    }
   ],
   "source": [
    "# https://www.kaggle.com/datasets/e0xextazy/pairs-comment-reply-from-reddit\n",
    "import pandas as pd\n",
    "\n",
    "df = pd.read_csv(\"data/reddit_with_keys_5m.csv\")\n",
    "print(df[\"tweets\"][0])\n",
    "print(df[\"keywords\"][0])\n",
    "\n",
    "print(len(df.index))"
   ]
  },
  {
   "cell_type": "code",
   "execution_count": 2,
   "id": "51201ad4",
   "metadata": {},
   "outputs": [],
   "source": [
    "import pandas as pd\n",
    "from sklearn.model_selection import train_test_split\n",
    "\n",
    "df = pd.read_csv('data/reddit_with_keys_5m.csv')\n",
    "\n",
    "train_df, test_df = train_test_split(df, test_size=0.2, random_state=42)\n",
    "\n",
    "train_df.to_csv('data/train.csv', index=False)\n",
    "test_df.to_csv('data/test.csv', index=False)\n",
    "\n",
    "train_df = pd.read_csv('./data/train.csv').iloc[:10000]\n",
    "test_df = pd.read_csv('./data/test.csv').iloc[:1000]\n",
    "train_df.to_csv('./data/tiny_train.csv')\n",
    "test_df.to_csv('./data/tiny_test.csv')"
   ]
  },
  {
   "cell_type": "code",
   "execution_count": 3,
   "id": "b3eecc84",
   "metadata": {},
   "outputs": [],
   "source": [
    "def statistics(df):\n",
    "    min_len = float('inf')\n",
    "    max_len = float('-inf')\n",
    "\n",
    "    total_char_len = 0\n",
    "    total_word_len = 0\n",
    "    count = 0\n",
    "\n",
    "    for _, row in df.iterrows():\n",
    "        text = row['tweets'].lower()\n",
    "        char_len = len(text)\n",
    "        word_len = len(text.split())\n",
    "\n",
    "        total_char_len += char_len\n",
    "        total_word_len += word_len\n",
    "        count += 1\n",
    "        \n",
    "        if char_len < min_len:\n",
    "            min_len = char_len \n",
    "            min_word_len = word_len\n",
    "            \n",
    "        if char_len > max_len:\n",
    "            max_len = char_len\n",
    "            max_word_len = word_len\n",
    "\n",
    "    avg_char_len = total_char_len / count\n",
    "    avg_word_len = total_word_len / count\n",
    "\n",
    "    print(\"Shortest text:\")\n",
    "    print(f\"Length: {min_len} characters, {min_word_len} words\\n\")\n",
    "\n",
    "    print(\"Longest text:\")\n",
    "    print(f\"Length: {max_len} characters, {max_word_len} words\\n\")\n",
    "\n",
    "    print(\"Average length:\")\n",
    "    print(f\"{avg_char_len:.2f} characters, {avg_word_len:.2f} words\")"
   ]
  },
  {
   "cell_type": "code",
   "execution_count": 4,
   "id": "c0c8d8c2",
   "metadata": {},
   "outputs": [
    {
     "name": "stdout",
     "output_type": "stream",
     "text": [
      "== Train ==\n",
      "Shortest text:\n",
      "Length: 16 characters, 4 words\n",
      "\n",
      "Longest text:\n",
      "Length: 200 characters, 35 words\n",
      "\n",
      "Average length:\n",
      "94.44 characters, 17.46 words\n",
      "\n",
      "\n",
      "== Test ==\n",
      "Shortest text:\n",
      "Length: 17 characters, 3 words\n",
      "\n",
      "Longest text:\n",
      "Length: 200 characters, 40 words\n",
      "\n",
      "Average length:\n",
      "97.56 characters, 18.04 words\n"
     ]
    }
   ],
   "source": [
    "import pandas as pd\n",
    "\n",
    "train_df = pd.read_csv('./data/tiny_train.csv')\n",
    "test_df = pd.read_csv('./data/tiny_test.csv')\n",
    "print('== Train ==')\n",
    "statistics(train_df)\n",
    "print('\\n\\n== Test ==')\n",
    "statistics(test_df)"
   ]
  }
 ],
 "metadata": {
  "kernelspec": {
   "display_name": "Python 3",
   "language": "python",
   "name": "python3"
  },
  "language_info": {
   "codemirror_mode": {
    "name": "ipython",
    "version": 3
   },
   "file_extension": ".py",
   "mimetype": "text/x-python",
   "name": "python",
   "nbconvert_exporter": "python",
   "pygments_lexer": "ipython3",
   "version": "3.12.0"
  }
 },
 "nbformat": 4,
 "nbformat_minor": 5
}
