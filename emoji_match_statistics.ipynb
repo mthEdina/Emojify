{
  "cells": [
    {
      "cell_type": "code",
      "execution_count": 1,
      "metadata": {
        "colab": {
          "base_uri": "https://localhost:8080/"
        },
        "id": "AkGRz5aofpkW",
        "outputId": "79c7dc37-a2c3-4242-8c05-d7c1bbb35c04"
      },
      "outputs": [
        {
          "name": "stdout",
          "output_type": "stream",
          "text": [
            "Saved results to 'emoji_comparison_results.csv'\n",
            "Total rows: 1000\n",
            "Exact matches: 74 (7.40%)\n",
            "Avg Precision: 0.67\n",
            "Avg Recall: 0.54\n",
            "Avg F1 Score: 0.58\n"
          ]
        }
      ],
      "source": [
        "import pandas as pd\n",
        "\n",
        "# Load both files\n",
        "df_true = pd.read_csv('emoji_results/tweets_with_emojis_initial.csv')\n",
        "df_pred = pd.read_csv('emoji_results/tweets_with_emojis_predicted.csv')\n",
        "\n",
        "# Merge on ID\n",
        "df = pd.merge(df_true[['id', 'emojis']], df_pred[['id', 'emojis']], on='id', suffixes=('_true', '_pred'))\n",
        "\n",
        "# Prepare results list\n",
        "results = []\n",
        "\n",
        "for _, row in df.iterrows():\n",
        "    id_ = row['id']\n",
        "    true_set = set(str(row['emojis_true']).split())\n",
        "    pred_set = set(str(row['emojis_pred']).split())\n",
        "\n",
        "    intersection = len(true_set & pred_set)\n",
        "    precision = intersection / len(pred_set) if pred_set else 0\n",
        "    recall = intersection / len(true_set) if true_set else 0\n",
        "    f1 = 2 * precision * recall / (precision + recall) if (precision + recall) > 0 else 0\n",
        "    exact_match = int(true_set == pred_set)\n",
        "\n",
        "    results.append({\n",
        "        'id': id_,\n",
        "        'true_emojis': row['emojis_true'],\n",
        "        'predicted_emojis': row['emojis_pred'],\n",
        "        'precision': round(precision, 2),\n",
        "        'recall': round(recall, 2),\n",
        "        'f1_score': round(f1, 2),\n",
        "        'exact_match': exact_match\n",
        "    })\n",
        "\n",
        "# Create and save results DataFrame\n",
        "results_df = pd.DataFrame(results)\n",
        "results_df.to_csv('emoji_comparison_results.csv', index=False)\n",
        "\n",
        "# Summary\n",
        "total = len(results_df)\n",
        "exact_matches = results_df['exact_match'].sum()\n",
        "print(f\"Saved results to 'emoji_comparison_results.csv'\")\n",
        "print(f\"Total rows: {total}\")\n",
        "print(f\"Exact matches: {exact_matches} ({exact_matches / total:.2%})\")\n",
        "print(f\"Avg Precision: {results_df['precision'].mean():.2f}\")\n",
        "print(f\"Avg Recall: {results_df['recall'].mean():.2f}\")\n",
        "print(f\"Avg F1 Score: {results_df['f1_score'].mean():.2f}\")\n"
      ]
    }
  ],
  "metadata": {
    "colab": {
      "provenance": []
    },
    "kernelspec": {
      "display_name": "Python 3",
      "name": "python3"
    },
    "language_info": {
      "codemirror_mode": {
        "name": "ipython",
        "version": 3
      },
      "file_extension": ".py",
      "mimetype": "text/x-python",
      "name": "python",
      "nbconvert_exporter": "python",
      "pygments_lexer": "ipython3",
      "version": "3.12.0"
    }
  },
  "nbformat": 4,
  "nbformat_minor": 0
}
